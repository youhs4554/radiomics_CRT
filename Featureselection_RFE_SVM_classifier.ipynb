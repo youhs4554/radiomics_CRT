{
 "cells": [
  {
   "cell_type": "code",
   "execution_count": null,
   "metadata": {},
   "outputs": [],
   "source": [
    "import pandas as pd\n",
    "import numpy as np\n",
    "import matplotlib.pyplot as plt\n",
    "import datetime, time\n",
    "from sklearn.svm import LinearSVC\n",
    "from sklearn.svm import SVC\n",
    "from sklearn.model_selection import KFold, RepeatedStratifiedKFold, GridSearchCV, cross_validate\n",
    "from sklearn.pipeline import Pipeline\n",
    "from sklearn.ensemble import RandomForestClassifier\n",
    "from sklearn.metrics import accuracy_score\n",
    "from sklearn.metrics import roc_auc_score\n",
    "from sklearn.metrics import classification_report\n",
    "from sklearn.metrics import confusion_matrix\n",
    "from sklearn.metrics import plot_confusion_matrix\n",
    "from sklearn.utils.testing import all_estimators\n",
    "from sklearn.discriminant_analysis import LinearDiscriminantAnalysis\n",
    "from sklearn.feature_selection import RFECV\n",
    "from sklearn.model_selection import StratifiedKFold"
   ]
  },
  {
   "cell_type": "markdown",
   "metadata": {},
   "source": [
    "## Load dataset"
   ]
  },
  {
   "cell_type": "code",
   "execution_count": null,
   "metadata": {},
   "outputs": [],
   "source": [
    "y_train=pd.read_csv(\"...\")\n",
    "y_test=pd.read_csv(\"...\")\n",
    "x_train_lr=pd.read_csv(\"...\")\n",
    "x_test_lr=pd.read_csv(\"...\")"
   ]
  },
  {
   "cell_type": "code",
   "execution_count": null,
   "metadata": {},
   "outputs": [],
   "source": [
    "# Create the RFE object and compute a cross-validated score.\n",
    "rfc = RandomForestClassifier()\n",
    "\n",
    "min_features_to_select = 1  # Minimum number of features to consider\n",
    "rfecv = RFECV(estimator=rfc, step=1, cv=StratifiedKFold(5),\n",
    "              scoring='roc_auc',\n",
    "              min_features_to_select=min_features_to_select)\n",
    "rfecv.fit(x_train_lr, y_train)\n",
    "\n",
    "print(\"Optimal number of features : %d\" % rfecv.n_features_)\n",
    "\n",
    "# summarize all features\n",
    "for i in range(x_train_lr.shape[1]):\n",
    "    print('Column: %d, Selected %s, Rank: %.3f' % (i, rfecv.support_[i], rfecv.ranking_[i]))"
   ]
  },
  {
   "cell_type": "code",
   "execution_count": null,
   "metadata": {},
   "outputs": [],
   "source": [
    "x_train_rfe=rfecv.transform(x_train_lr)\n",
    "x_test_rfe=rfecv.transform(x_test_lr)\n",
    "\n",
    "\n",
    "#Feature names\n",
    "feature_names=np.array(x_train_lr.columns.tolist())\n",
    "feature_names=feature_names[rfecv.support_]\n",
    "feature_names"
   ]
  },
  {
   "cell_type": "markdown",
   "metadata": {},
   "source": [
    "## SVM classifier"
   ]
  },
  {
   "cell_type": "code",
   "execution_count": null,
   "metadata": {},
   "outputs": [],
   "source": [
    "parameters=[\n",
    "    {\"C\":[1,10,100,1000],\"kernel\":[\"linear\"]},\n",
    "    {\"C\":[1,10,100,1000],\"kernel\":[\"rbf\"],\"gamma\":[0.01,0.001,0.0001]},\n",
    "    {\"C\":[1,10,100,1000],\"kernel\":[\"sigmoid\"],\"gamma\":[0.01,0.001,0.0001]}\n",
    "]\n",
    "\n",
    "kfold_cv=KFold(n_splits=5,shuffle=True,random_state=10)\n",
    "clf = GridSearchCV(SVC(random_state=20),parameters,verbose=3,cv=kfold_cv,scoring='roc_auc',n_jobs=-1)\n",
    "clf.fit(x_train_rfe,y_train)\n",
    "best=clf.best_estimator_\n",
    "print(\"Optimal hyperparameters=\",clf.best_estimator_)\n",
    "\n",
    "\n",
    "y_pred_train = best.predict(x_train_rfe)\n",
    "print('Final AUC of train set=',roc_auc_score(y_train,y_pred_train))\n",
    "print('Final accuracy of train set=',accuracy_score(y_train,y_pred_train))\n",
    "\n",
    "\n",
    "y_pred = best.predict(x_test_rfe)\n",
    "print('Final AUC of test set=',roc_auc_score(y_test,y_pred))\n",
    "print('Final accuracy of test set=',accuracy_score(y_test,y_pred))"
   ]
  }
 ],
 "metadata": {
  "kernelspec": {
   "display_name": "Python 3",
   "language": "python",
   "name": "python3"
  },
  "language_info": {
   "codemirror_mode": {
    "name": "ipython",
    "version": 3
   },
   "file_extension": ".py",
   "mimetype": "text/x-python",
   "name": "python",
   "nbconvert_exporter": "python",
   "pygments_lexer": "ipython3",
   "version": "3.7.6"
  }
 },
 "nbformat": 4,
 "nbformat_minor": 4
}
